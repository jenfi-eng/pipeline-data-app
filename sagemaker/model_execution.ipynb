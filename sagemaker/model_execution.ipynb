{
 "cells": [
  {
   "cell_type": "code",
   "execution_count": null,
   "id": "057a21c0",
   "metadata": {},
   "outputs": [],
   "source": [
    "!pip install -U sagemaker"
   ]
  },
  {
   "cell_type": "code",
   "execution_count": null,
   "id": "0614a2ff",
   "metadata": {},
   "outputs": [],
   "source": [
    "import os\n",
    "import boto3\n",
    "import re\n",
    "import json\n",
    "import pandas as pd\n",
    "import numpy as np\n",
    "import sagemaker\n",
    "from sagemaker import get_execution_role\n",
    "from sagemaker.sklearn.model import SKLearnModel"
   ]
  },
  {
   "cell_type": "code",
   "execution_count": null,
   "id": "a0cc129c",
   "metadata": {},
   "outputs": [],
   "source": [
    "row_data = {\n",
    "    'bal_month_level_min_lag_month_1_week_3_overall_level_0': 1,\n",
    "    'db_amt_month_level_median_lag_month_2_week_1_overall_level_0': 1,\n",
    "    'burn_amt_month_level_max_lag_month_2_week_2_overall_level_0': 0,\n",
    "    'outflow_inflow_ratio_cnt_day_level_lag_27_overall_level_0': 0,\n",
    "    'burn_amt_day_level_lag_43_corporate_level_0': 0\n",
    "}\n",
    "\n",
    "feat_dataframe = pd.DataFrame([row_data])\n",
    "\n",
    "feat_dataframe"
   ]
  },
  {
   "cell_type": "code",
   "execution_count": null,
   "id": "b63b8e10",
   "metadata": {},
   "outputs": [],
   "source": [
    "from statsmodels.api import add_constant\n",
    "input_predict = add_constant(feat_dataframe, has_constant='add')"
   ]
  },
  {
   "cell_type": "code",
   "execution_count": null,
   "id": "363e14a4",
   "metadata": {},
   "outputs": [],
   "source": [
    "input_predict_json = input_predict.to_json(orient='records', lines=True).encode(\"utf-8\")\n",
    "input_predict_json"
   ]
  },
  {
   "cell_type": "code",
   "execution_count": null,
   "id": "d264d168",
   "metadata": {},
   "outputs": [],
   "source": [
    "runtime = boto3.client(\"sagemaker-runtime\")"
   ]
  },
  {
   "cell_type": "code",
   "execution_count": null,
   "id": "9803e73a",
   "metadata": {},
   "outputs": [],
   "source": [
    "endpoint_name = \"VnTwoMobFifteenPlus\""
   ]
  },
  {
   "cell_type": "code",
   "execution_count": null,
   "id": "e370933b",
   "metadata": {},
   "outputs": [],
   "source": [
    "response = runtime.invoke_endpoint(\n",
    "    EndpointName=endpoint_name,\n",
    "    Body=input_predict_json,\n",
    "    ContentType=\"application/json\",\n",
    ")"
   ]
  },
  {
   "cell_type": "code",
   "execution_count": null,
   "id": "c26d8c51",
   "metadata": {},
   "outputs": [],
   "source": [
    "response[\"Body\"].read()"
   ]
  },
  {
   "cell_type": "code",
   "execution_count": null,
   "id": "045770c5",
   "metadata": {},
   "outputs": [],
   "source": []
  }
 ],
 "metadata": {
  "kernelspec": {
   "display_name": "Python 3 (ipykernel)",
   "language": "python",
   "name": "python3"
  },
  "language_info": {
   "codemirror_mode": {
    "name": "ipython",
    "version": 3
   },
   "file_extension": ".py",
   "mimetype": "text/x-python",
   "name": "python",
   "nbconvert_exporter": "python",
   "pygments_lexer": "ipython3",
   "version": "3.9.10"
  }
 },
 "nbformat": 4,
 "nbformat_minor": 5
}
