{
 "cells": [
  {
   "cell_type": "code",
   "execution_count": 1,
   "id": "251f3168-e326-4a5e-9a83-d23858c47e9c",
   "metadata": {},
   "outputs": [],
   "source": [
    "a = 4 + 5"
   ]
  },
  {
   "cell_type": "code",
   "execution_count": 2,
   "id": "143fdc82-09c4-4326-ad8c-83abc17d76f5",
   "metadata": {},
   "outputs": [
    {
     "data": {
      "text/plain": [
       "9"
      ]
     },
     "execution_count": 2,
     "metadata": {},
     "output_type": "execute_result"
    }
   ],
   "source": [
    "a"
   ]
  },
  {
   "cell_type": "code",
   "execution_count": null,
   "id": "59f38a5d-531b-4ee2-8709-02b1701c2329",
   "metadata": {},
   "outputs": [],
   "source": []
  }
 ],
 "metadata": {
  "kernelspec": {
   "display_name": "jenfi_pipeline_data_app",
   "language": "python",
   "name": "jenfi_pipeline_data_app"
  },
  "language_info": {
   "codemirror_mode": {
    "name": "ipython",
    "version": 3
   },
   "file_extension": ".py",
   "mimetype": "text/x-python",
   "name": "python",
   "nbconvert_exporter": "python",
   "pygments_lexer": "ipython3",
   "version": "3.10.6"
  }
 },
 "nbformat": 4,
 "nbformat_minor": 5
}
