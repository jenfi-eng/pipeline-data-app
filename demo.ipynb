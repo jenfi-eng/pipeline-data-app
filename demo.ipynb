{
 "cells": [
  {
   "cell_type": "code",
   "execution_count": 1,
   "id": "251f3168-e326-4a5e-9a83-d23858c47e9c",
   "metadata": {},
   "outputs": [],
   "source": [
    "a = 4 + 5"
   ]
  },
  {
   "cell_type": "code",
   "execution_count": 1,
   "id": "143fdc82-09c4-4326-ad8c-83abc17d76f5",
   "metadata": {},
   "outputs": [],
   "source": [
    "c = 6 + 7"
   ]
  },
  {
   "cell_type": "code",
   "execution_count": 2,
   "id": "59f38a5d-531b-4ee2-8709-02b1701c2329",
   "metadata": {},
   "outputs": [],
   "source": [
    "d = 8 + 9"
   ]
  },
  {
   "cell_type": "code",
   "execution_count": 3,
   "id": "9f6381ae-e242-480f-99ea-e05f48b2ad00",
   "metadata": {},
   "outputs": [
    {
     "data": {
      "text/plain": [
       "17"
      ]
     },
     "execution_count": 3,
     "metadata": {},
     "output_type": "execute_result"
    }
   ],
   "source": [
    "d"
   ]
  },
  {
   "cell_type": "code",
   "execution_count": 4,
   "id": "96999475-03e9-4d48-a768-b462785438f8",
   "metadata": {},
   "outputs": [],
   "source": [
    "e = 10 + 11"
   ]
  },
  {
   "cell_type": "code",
   "execution_count": 5,
   "id": "97ad1996-2dd8-4175-95c2-e8e30bb8b363",
   "metadata": {},
   "outputs": [
    {
     "data": {
      "text/plain": [
       "21"
      ]
     },
     "execution_count": 5,
     "metadata": {},
     "output_type": "execute_result"
    }
   ],
   "source": [
    "e"
   ]
  },
  {
   "cell_type": "code",
   "execution_count": null,
   "id": "e39ce1f8-f2f7-492c-a4c2-b3355418010c",
   "metadata": {},
   "outputs": [],
   "source": []
  }
 ],
 "metadata": {
  "kernelspec": {
   "display_name": "jenfi_pipeline_data_app",
   "language": "python",
   "name": "jenfi_pipeline_data_app"
  },
  "language_info": {
   "codemirror_mode": {
    "name": "ipython",
    "version": 3
   },
   "file_extension": ".py",
   "mimetype": "text/x-python",
   "name": "python",
   "nbconvert_exporter": "python",
   "pygments_lexer": "ipython3",
   "version": "3.10.6"
  }
 },
 "nbformat": 4,
 "nbformat_minor": 5
}
