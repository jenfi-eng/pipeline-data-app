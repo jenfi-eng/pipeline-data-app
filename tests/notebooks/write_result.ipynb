{
 "cells": [
  {
   "cell_type": "code",
   "execution_count": 8,
   "id": "335c70e1-04cf-4bb6-b8fe-6e01eb9a8ef2",
   "metadata": {},
   "outputs": [],
   "source": [
    "from jenfi_pipeline_data_app import PipelineDataApp as Jenfi"
   ]
  },
  {
   "cell_type": "code",
   "execution_count": 9,
   "id": "5d5a4822-c23f-432a-8f24-71a4d04686ed",
   "metadata": {},
   "outputs": [],
   "source": [
    "Jenfi.write_result({ \"my_result_val\": 3 })"
   ]
  }
 ],
 "metadata": {
  "kernelspec": {
   "display_name": "Python 3 (ipykernel)",
   "language": "python",
   "name": "python3"
  },
  "language_info": {
   "codemirror_mode": {
    "name": "ipython",
    "version": 3
   },
   "file_extension": ".py",
   "mimetype": "text/x-python",
   "name": "python",
   "nbconvert_exporter": "python",
   "pygments_lexer": "ipython3",
   "version": "3.10.6"
  }
 },
 "nbformat": 4,
 "nbformat_minor": 5
}
